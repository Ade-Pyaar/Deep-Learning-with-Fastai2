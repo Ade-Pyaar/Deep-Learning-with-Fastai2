{
  "nbformat": 4,
  "nbformat_minor": 0,
  "metadata": {
    "colab": {
      "name": "fastai-V4-3-deployment.ipynb",
      "provenance": [],
      "collapsed_sections": []
    },
    "kernelspec": {
      "name": "python3",
      "display_name": "Python 3"
    }
  },
  "cells": [
    {
      "cell_type": "code",
      "metadata": {
        "id": "8HXijTmvy8ex",
        "colab_type": "code",
        "colab": {}
      },
      "source": [
        "!pip install -Uqq fastbook\n",
        "\n",
        "from fastbook import *\n",
        "from fastai.vision.widgets import *"
      ],
      "execution_count": null,
      "outputs": []
    },
    {
      "cell_type": "markdown",
      "metadata": {
        "id": "sG9JUv9dxCe_",
        "colab_type": "text"
      },
      "source": [
        "# My first Deep Learning deployment\n",
        "It's just a small stuff, upload a picture of a bear, either ploar, grizzly, black or teddy bear and my model will predict which bear it is."
      ]
    },
    {
      "cell_type": "code",
      "metadata": {
        "id": "KYmlKn0rxoqr",
        "colab_type": "code",
        "colab": {}
      },
      "source": [
        "model_inf = load_learner(fname='/content/drive/My Drive/my_model.pkl')\n",
        "btn_upload = widgets.FileUpload()\n",
        "out_pl = widgets.Output()\n",
        "lbl_pred = widgets.Label()"
      ],
      "execution_count": null,
      "outputs": []
    },
    {
      "cell_type": "code",
      "metadata": {
        "id": "zCUEt8ziyRXs",
        "colab_type": "code",
        "colab": {}
      },
      "source": [
        "def classify(change):\n",
        "    img = PILImage.create(btn_upload.data[-1])\n",
        "    out_pl.clear_output()\n",
        "    with out_pl: display(img.to_thumb(128, 128))\n",
        "    pred, pred_idx, probs = model_inf.predict(img)\n",
        "    lbl_pred.value = f'Prediction: {pred}; Probability: {probs[pred_idx]:.04f}'"
      ],
      "execution_count": null,
      "outputs": []
    }
  ]
}